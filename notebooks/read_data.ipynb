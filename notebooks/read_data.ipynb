{
 "cells": [
  {
   "cell_type": "code",
   "execution_count": 1,
   "metadata": {},
   "outputs": [],
   "source": [
    "import pandas as pd"
   ]
  },
  {
   "cell_type": "code",
   "execution_count": 2,
   "metadata": {},
   "outputs": [
    {
     "name": "stdout",
     "output_type": "stream",
     "text": [
      "The number of rows/lines is 923\n"
     ]
    }
   ],
   "source": [
    "with open(\"../data/traffic_city.csv\", 'r') as file:\n",
    "    lines=file.readlines()\n",
    "\n",
    "print(f\"The number of rows/lines is {len(lines)}\")"
   ]
  },
  {
   "cell_type": "code",
   "execution_count": 3,
   "metadata": {},
   "outputs": [
    {
     "name": "stdout",
     "output_type": "stream",
     "text": [
      "track_id; type; traveled_d; avg_speed; lat; lon; speed; lon_acc; lat_acc; time\n",
      "\n",
      "['track_id', ' type', ' traveled_d', ' avg_speed', ' lat', ' lon', ' speed', ' lon_acc', ' lat_acc', ' time']\n"
     ]
    }
   ],
   "source": [
    "print(lines[0]) # column names\n",
    "print(lines[0].strip('\\n').strip().strip(';').split(';')) # columns names as a list"
   ]
  },
  {
   "cell_type": "code",
   "execution_count": 4,
   "metadata": {},
   "outputs": [
    {
     "data": {
      "text/plain": [
       "923"
      ]
     },
     "execution_count": 4,
     "metadata": {},
     "output_type": "execute_result"
    }
   ],
   "source": [
    "lines_as_lists = [line.strip('\\n').strip().strip(';').split(';') for line in lines]\n",
    "len(lines_as_lists)"
   ]
  },
  {
   "cell_type": "code",
   "execution_count": 5,
   "metadata": {},
   "outputs": [
    {
     "name": "stdout",
     "output_type": "stream",
     "text": [
      "the number of fields in row 1 is 2710, row 2 is 2680\n"
     ]
    }
   ],
   "source": [
    "print(f\"the number of fields in row 1 is {len(lines_as_lists[1])}, row 2 is {len(lines_as_lists[2])}\")"
   ]
  },
  {
   "cell_type": "code",
   "execution_count": 6,
   "metadata": {},
   "outputs": [
    {
     "name": "stdout",
     "output_type": "stream",
     "text": [
      "the maximum number of fields is 122830\n",
      "the largest n = 20471\n"
     ]
    }
   ],
   "source": [
    "no_field_max = 0\n",
    "\n",
    "for row in lines_as_lists:\n",
    "    if len(row) > no_field_max:\n",
    "        no_field_max = len(row)\n",
    "\n",
    "print(f\"the maximum number of fields is {no_field_max}\")\n",
    "largest_n = int((no_field_max-4)/6)\n",
    "print(f\"the largest n = {largest_n}\")"
   ]
  },
  {
   "cell_type": "code",
   "execution_count": 7,
   "metadata": {},
   "outputs": [],
   "source": [
    "cols = lines_as_lists.pop(0)"
   ]
  },
  {
   "cell_type": "code",
   "execution_count": 8,
   "metadata": {},
   "outputs": [
    {
     "name": "stdout",
     "output_type": "stream",
     "text": [
      "['track_id', ' type', ' traveled_d', ' avg_speed']\n",
      "['track_id', ' lat', ' lon', ' speed', ' lon_acc', ' lat_acc', ' time']\n"
     ]
    }
   ],
   "source": [
    "track_cols = cols[:4]\n",
    "trajectory_cols = ['track_id'] + cols[4:]\n",
    "\n",
    "print(track_cols)\n",
    "print(trajectory_cols)"
   ]
  },
  {
   "cell_type": "code",
   "execution_count": 9,
   "metadata": {},
   "outputs": [],
   "source": [
    "track_info = []\n",
    "trajectory_info = []\n",
    "\n",
    "for row in lines_as_lists:\n",
    "    track_id = row[0]\n",
    "\n",
    "    # add the first 4 values to track_info\n",
    "    track_info.append(row[:4]) \n",
    "\n",
    "    remaining_values = row[4:]\n",
    "    # reshape the list into a matrix and add track_id\n",
    "    trajectory_matrix = [ [track_id] + remaining_values[i:i+6] for i in range(0,len(remaining_values),6)]\n",
    "    # add the matrix rows to trajectory_info\n",
    "    trajectory_info = trajectory_info + trajectory_matrix\n"
   ]
  },
  {
   "cell_type": "code",
   "execution_count": 10,
   "metadata": {},
   "outputs": [
    {
     "data": {
      "text/html": [
       "<div>\n",
       "<style scoped>\n",
       "    .dataframe tbody tr th:only-of-type {\n",
       "        vertical-align: middle;\n",
       "    }\n",
       "\n",
       "    .dataframe tbody tr th {\n",
       "        vertical-align: top;\n",
       "    }\n",
       "\n",
       "    .dataframe thead th {\n",
       "        text-align: right;\n",
       "    }\n",
       "</style>\n",
       "<table border=\"1\" class=\"dataframe\">\n",
       "  <thead>\n",
       "    <tr style=\"text-align: right;\">\n",
       "      <th></th>\n",
       "      <th>track_id</th>\n",
       "      <th>type</th>\n",
       "      <th>traveled_d</th>\n",
       "      <th>avg_speed</th>\n",
       "    </tr>\n",
       "  </thead>\n",
       "  <tbody>\n",
       "    <tr>\n",
       "      <th>0</th>\n",
       "      <td>1</td>\n",
       "      <td>Car</td>\n",
       "      <td>48.85</td>\n",
       "      <td>9.770344</td>\n",
       "    </tr>\n",
       "    <tr>\n",
       "      <th>1</th>\n",
       "      <td>2</td>\n",
       "      <td>Motorcycle</td>\n",
       "      <td>98.09</td>\n",
       "      <td>19.839417</td>\n",
       "    </tr>\n",
       "    <tr>\n",
       "      <th>2</th>\n",
       "      <td>3</td>\n",
       "      <td>Motorcycle</td>\n",
       "      <td>63.80</td>\n",
       "      <td>18.228752</td>\n",
       "    </tr>\n",
       "    <tr>\n",
       "      <th>3</th>\n",
       "      <td>4</td>\n",
       "      <td>Motorcycle</td>\n",
       "      <td>145.72</td>\n",
       "      <td>26.229014</td>\n",
       "    </tr>\n",
       "    <tr>\n",
       "      <th>4</th>\n",
       "      <td>5</td>\n",
       "      <td>Motorcycle</td>\n",
       "      <td>138.01</td>\n",
       "      <td>24.841425</td>\n",
       "    </tr>\n",
       "  </tbody>\n",
       "</table>\n",
       "</div>"
      ],
      "text/plain": [
       "  track_id         type  traveled_d   avg_speed\n",
       "0        1          Car       48.85    9.770344\n",
       "1        2   Motorcycle       98.09   19.839417\n",
       "2        3   Motorcycle       63.80   18.228752\n",
       "3        4   Motorcycle      145.72   26.229014\n",
       "4        5   Motorcycle      138.01   24.841425"
      ]
     },
     "execution_count": 10,
     "metadata": {},
     "output_type": "execute_result"
    }
   ],
   "source": [
    "df_track = pd.DataFrame(data= track_info,columns=track_cols)\n",
    "\n",
    "df_track.head()"
   ]
  },
  {
   "cell_type": "code",
   "execution_count": 11,
   "metadata": {},
   "outputs": [
    {
     "data": {
      "text/html": [
       "<div>\n",
       "<style scoped>\n",
       "    .dataframe tbody tr th:only-of-type {\n",
       "        vertical-align: middle;\n",
       "    }\n",
       "\n",
       "    .dataframe tbody tr th {\n",
       "        vertical-align: top;\n",
       "    }\n",
       "\n",
       "    .dataframe thead th {\n",
       "        text-align: right;\n",
       "    }\n",
       "</style>\n",
       "<table border=\"1\" class=\"dataframe\">\n",
       "  <thead>\n",
       "    <tr style=\"text-align: right;\">\n",
       "      <th></th>\n",
       "      <th>track_id</th>\n",
       "      <th>lat</th>\n",
       "      <th>lon</th>\n",
       "      <th>speed</th>\n",
       "      <th>lon_acc</th>\n",
       "      <th>lat_acc</th>\n",
       "      <th>time</th>\n",
       "    </tr>\n",
       "  </thead>\n",
       "  <tbody>\n",
       "    <tr>\n",
       "      <th>0</th>\n",
       "      <td>1</td>\n",
       "      <td>37.977391</td>\n",
       "      <td>23.737688</td>\n",
       "      <td>4.9178</td>\n",
       "      <td>0.0518</td>\n",
       "      <td>-0.0299</td>\n",
       "      <td>0.000000</td>\n",
       "    </tr>\n",
       "    <tr>\n",
       "      <th>1</th>\n",
       "      <td>1</td>\n",
       "      <td>37.977391</td>\n",
       "      <td>23.737688</td>\n",
       "      <td>4.9207</td>\n",
       "      <td>-0.0124</td>\n",
       "      <td>-0.0354</td>\n",
       "      <td>0.040000</td>\n",
       "    </tr>\n",
       "    <tr>\n",
       "      <th>2</th>\n",
       "      <td>1</td>\n",
       "      <td>37.977391</td>\n",
       "      <td>23.737688</td>\n",
       "      <td>4.9160</td>\n",
       "      <td>-0.0519</td>\n",
       "      <td>-0.0413</td>\n",
       "      <td>0.080000</td>\n",
       "    </tr>\n",
       "    <tr>\n",
       "      <th>3</th>\n",
       "      <td>1</td>\n",
       "      <td>37.977390</td>\n",
       "      <td>23.737688</td>\n",
       "      <td>4.9057</td>\n",
       "      <td>-0.0914</td>\n",
       "      <td>-0.0478</td>\n",
       "      <td>0.120000</td>\n",
       "    </tr>\n",
       "    <tr>\n",
       "      <th>4</th>\n",
       "      <td>1</td>\n",
       "      <td>37.977390</td>\n",
       "      <td>23.737689</td>\n",
       "      <td>4.8871</td>\n",
       "      <td>-0.1679</td>\n",
       "      <td>-0.0550</td>\n",
       "      <td>0.160000</td>\n",
       "    </tr>\n",
       "  </tbody>\n",
       "</table>\n",
       "</div>"
      ],
      "text/plain": [
       "  track_id         lat         lon    speed   lon_acc   lat_acc       time\n",
       "0        1   37.977391   23.737688   4.9178    0.0518   -0.0299   0.000000\n",
       "1        1   37.977391   23.737688   4.9207   -0.0124   -0.0354   0.040000\n",
       "2        1   37.977391   23.737688   4.9160   -0.0519   -0.0413   0.080000\n",
       "3        1   37.977390   23.737688   4.9057   -0.0914   -0.0478   0.120000\n",
       "4        1   37.977390   23.737689   4.8871   -0.1679   -0.0550   0.160000"
      ]
     },
     "execution_count": 11,
     "metadata": {},
     "output_type": "execute_result"
    }
   ],
   "source": [
    "df_trajectory = pd.DataFrame(data= trajectory_info,columns=trajectory_cols)\n",
    "\n",
    "df_trajectory.head()"
   ]
  },
  {
   "cell_type": "code",
   "execution_count": 12,
   "metadata": {},
   "outputs": [],
   "source": [
    "import sys\n",
    "sys.path.append('../')\n",
    "from src.database_setup import setup_database\n",
    "\n",
    "connection_params = {\n",
    "    \"host\": \"localhost\",\n",
    "    \"user\": \"postgres\",\n",
    "    \"password\": \"postgres\",\n",
    "    \"port\": \"5432\",\n",
    "    \"database\": \"traffic_analysis\"\n",
    "}\n",
    "\n",
    "# Define your database URL\n",
    "db_url = f\"postgresql://{connection_params['user']}:{connection_params['password']}@{connection_params['host']}:{connection_params['port']}/{connection_params['database']}\"\n",
    "\n",
    "# Call the setup function\n",
    "setup_database(db_url)\n",
    "\n"
   ]
  },
  {
   "cell_type": "code",
   "execution_count": 13,
   "metadata": {},
   "outputs": [
    {
     "data": {
      "text/plain": [
       "887"
      ]
     },
     "execution_count": 13,
     "metadata": {},
     "output_type": "execute_result"
    }
   ],
   "source": [
    "import sqlalchemy\n",
    "#Loading the dataframes into postgres\n",
    "engine = sqlalchemy.create_engine(db_url)\n",
    "\n",
    "df_track.to_sql('track_table', engine, if_exists='replace', index=False)\n",
    "df_trajectory.to_sql('trajectory_table', engine, if_exists='replace', index=False)\n"
   ]
  }
 ],
 "metadata": {
  "kernelspec": {
   "display_name": "Python 3",
   "language": "python",
   "name": "python3"
  },
  "language_info": {
   "codemirror_mode": {
    "name": "ipython",
    "version": 3
   },
   "file_extension": ".py",
   "mimetype": "text/x-python",
   "name": "python",
   "nbconvert_exporter": "python",
   "pygments_lexer": "ipython3",
   "version": "3.12.2"
  }
 },
 "nbformat": 4,
 "nbformat_minor": 2
}
